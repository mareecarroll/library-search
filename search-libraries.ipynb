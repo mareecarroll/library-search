{
 "cells": [
  {
   "cell_type": "code",
   "execution_count": 1,
   "metadata": {},
   "outputs": [
    {
     "data": {
      "application/vnd.jupyter.widget-view+json": {
       "model_id": "4fed5a58724d408384d19aca05d47a7c",
       "version_major": 2,
       "version_minor": 0
      },
      "text/plain": [
       "A Jupyter Widget"
      ]
     },
     "metadata": {},
     "output_type": "display_data"
    }
   ],
   "source": [
    "from __future__ import print_function\n",
    "from ipywidgets import interact, interactive, fixed, interact_manual\n",
    "import ipywidgets as widgets\n",
    "from search_libraries import *\n",
    "\n",
    "@interact(search=\"\")\n",
    "def search(search):\n",
    "    \"\"\"\n",
    "    Widget for library search.\n",
    "    \n",
    "    Search Yarra, Melbourne and Moreland library catalogues with the search term entered in the search box.\n",
    "    \n",
    "    Args:\n",
    "        search (str): The search term\n",
    "    Returns:\n",
    "        list: The list of zipped (as in zip()) results for catalogue searches.\n",
    "    \"\"\"\n",
    "    titles = []\n",
    "    if len(search) > 3:\n",
    "        zipped = zip(search_yarra(search), search_melbourne(search), search_moreland(search))\n",
    "        for yarra, melb, moreland in zipped:\n",
    "            titles.append(yarra)\n",
    "            titles.append(melb)\n",
    "            titles.append(moreland)\n",
    "    return titles"
   ]
  },
  {
   "cell_type": "code",
   "execution_count": null,
   "metadata": {
    "collapsed": true
   },
   "outputs": [],
   "source": []
  }
 ],
 "metadata": {
  "kernelspec": {
   "display_name": "Python 3",
   "language": "python",
   "name": "python3"
  },
  "language_info": {
   "codemirror_mode": {
    "name": "ipython",
    "version": 3
   },
   "file_extension": ".py",
   "mimetype": "text/x-python",
   "name": "python",
   "nbconvert_exporter": "python",
   "pygments_lexer": "ipython3",
   "version": "3.6.3"
  }
 },
 "nbformat": 4,
 "nbformat_minor": 2
}
