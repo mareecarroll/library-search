{
 "cells": [
  {
   "cell_type": "code",
   "execution_count": 6,
   "metadata": {},
   "outputs": [
    {
     "data": {
      "application/vnd.jupyter.widget-view+json": {
       "model_id": "6244847c0b164a5788608f059af005ca",
       "version_major": 2,
       "version_minor": 0
      },
      "text/plain": [
       "A Jupyter Widget"
      ]
     },
     "metadata": {},
     "output_type": "display_data"
    }
   ],
   "source": [
    "from __future__ import print_function\n",
    "from ipywidgets import interact, interactive, fixed, interact_manual\n",
    "import ipywidgets as widgets\n",
    "from search_libraries import *\n",
    "from IPython.core.display import HTML\n",
    "\n",
    "def style_result(result):\n",
    "    return '<div>' + result.title + ' <span style=\"background: #ccc; padding-left: 5px; padding-right: 5px;\"> '+result.library.title() +' </span></div>'\n",
    "\n",
    "def style_results(results):\n",
    "    html = ''\n",
    "    for result in results:\n",
    "        html += style_result(result)\n",
    "    return HTML(html)\n",
    "\n",
    "@interact(search=\"\")\n",
    "def search(search):\n",
    "    \"\"\"\n",
    "    Widget for library search.\n",
    "    \n",
    "    Search Yarra, Melbourne and Moreland library catalogues with the search term entered in the search box.\n",
    "    \n",
    "    Args:\n",
    "        search (str): The search term\n",
    "    Returns:\n",
    "        list: The list of zipped (as in zip()) results for catalogue searches.\n",
    "    \"\"\"\n",
    "    titles = []\n",
    "    if len(search) > 3:\n",
    "        #return search_libraries(search)\n",
    "        return style_results(search_libraries(search))"
   ]
  },
  {
   "cell_type": "code",
   "execution_count": null,
   "metadata": {
    "collapsed": true
   },
   "outputs": [],
   "source": []
  }
 ],
 "metadata": {
  "kernelspec": {
   "display_name": "Python [default]",
   "language": "python",
   "name": "python3"
  },
  "language_info": {
   "codemirror_mode": {
    "name": "ipython",
    "version": 3
   },
   "file_extension": ".py",
   "mimetype": "text/x-python",
   "name": "python",
   "nbconvert_exporter": "python",
   "pygments_lexer": "ipython3",
   "version": "3.6.3"
  }
 },
 "nbformat": 4,
 "nbformat_minor": 2
}
