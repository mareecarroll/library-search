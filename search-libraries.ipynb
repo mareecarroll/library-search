{
 "cells": [
  {
   "cell_type": "code",
   "execution_count": 1,
   "metadata": {
    "collapsed": true
   },
   "outputs": [],
   "source": [
    "from search_libraries import *\n",
    "import time"
   ]
  },
  {
   "cell_type": "code",
   "execution_count": 2,
   "metadata": {
    "collapsed": true
   },
   "outputs": [],
   "source": [
    "from __future__ import print_function\n",
    "from ipywidgets import interact, interactive, fixed, interact_manual\n",
    "import ipywidgets as widgets\n",
    "from IPython.core.display import HTML"
   ]
  },
  {
   "cell_type": "code",
   "execution_count": 3,
   "metadata": {},
   "outputs": [
    {
     "data": {
      "text/plain": [
       "['.env']"
      ]
     },
     "execution_count": 3,
     "metadata": {},
     "output_type": "execute_result"
    }
   ],
   "source": [
    "from configparser import ConfigParser\n",
    "import requests\n",
    "from bs4 import BeautifulSoup\n",
    "\n",
    "config = ConfigParser()\n",
    "config.read('.env')"
   ]
  },
  {
   "cell_type": "code",
   "execution_count": 4,
   "metadata": {
    "collapsed": true
   },
   "outputs": [],
   "source": [
    "def search_goodreads(search_term):\n",
    "    key = config.get('goodreads','key')\n",
    "    url = 'https://www.goodreads.com/search/index.xml'\n",
    "    payload = {'q': search_term, 'key': key }\n",
    "    r = requests.get(url, params=payload)\n",
    "    soup = BeautifulSoup(r.content, 'html.parser')\n",
    "    titles = ['Please select a title...']\n",
    "    for title in soup.find_all('title'):\n",
    "        titles.append(title.string)\n",
    "    return widgets.Select(\n",
    "        options=titles,\n",
    "        value=titles[0],\n",
    "        description='Results:',\n",
    "        disabled=False\n",
    "    )"
   ]
  },
  {
   "cell_type": "code",
   "execution_count": 5,
   "metadata": {
    "collapsed": true
   },
   "outputs": [],
   "source": [
    "def style_result(result):\n",
    "    return '<div>' + result.title + ' <span class=\"badge badge-secondary\"> '+result.library.title() +' </span></div>'\n",
    "\n",
    "def style_results(results):\n",
    "    html = ''\n",
    "    for result in results:\n",
    "        html += style_result(result)\n",
    "    return HTML(html)"
   ]
  },
  {
   "cell_type": "code",
   "execution_count": 6,
   "metadata": {
    "collapsed": true
   },
   "outputs": [],
   "source": [
    "def on_value_change(change):\n",
    "    search_term = change['new']\n",
    "    if '(' in search_term: # series books screw up library searches\n",
    "        search_term, _ = search_term.split('(')\n",
    "    print('Loading library search results for: ', search_term, '...')\n",
    "    results = search_libraries(search_term)\n",
    "    if len(results) == 0:\n",
    "        print('No results found')\n",
    "    else:\n",
    "        display(style_results(results))"
   ]
  },
  {
   "cell_type": "code",
   "execution_count": 7,
   "metadata": {},
   "outputs": [
    {
     "data": {
      "application/vnd.jupyter.widget-view+json": {
       "model_id": "e7d2c78cf0ba4023aab67cc2e32d0a7c",
       "version_major": 2,
       "version_minor": 0
      },
      "text/html": [
       "<p>Failed to display Jupyter Widget of type <code>interactive</code>.</p>\n",
       "<p>\n",
       "  If you're reading this message in the Jupyter Notebook or JupyterLab Notebook, it may mean\n",
       "  that the widgets JavaScript is still loading. If this message persists, it\n",
       "  likely means that the widgets JavaScript library is either not installed or\n",
       "  not enabled. See the <a href=\"https://ipywidgets.readthedocs.io/en/stable/user_install.html\">Jupyter\n",
       "  Widgets Documentation</a> for setup instructions.\n",
       "</p>\n",
       "<p>\n",
       "  If you're reading this message in another frontend (for example, a static\n",
       "  rendering on GitHub or <a href=\"https://nbviewer.jupyter.org/\">NBViewer</a>),\n",
       "  it may mean that your frontend doesn't currently support widgets.\n",
       "</p>\n"
      ],
      "text/plain": [
       "interactive(children=(Text(value='', description='search'), Button(description='Run Interact', style=ButtonStyle()), Output()), _dom_classes=('widget-interact',))"
      ]
     },
     "metadata": {},
     "output_type": "display_data"
    }
   ],
   "source": [
    "@interact_manual(search=\"\")\n",
    "def search(search):\n",
    "    \"\"\"\n",
    "    Widget for library search.\n",
    "    \n",
    "    Search Yarra, Melbourne and Moreland library catalogues with the search term entered in the search box.\n",
    "    \n",
    "    Args:\n",
    "        search (str): The search term\n",
    "    Returns:\n",
    "        list: The list of zipped (as in zip()) results for catalogue searches.\n",
    "    \"\"\"\n",
    "    titles = []\n",
    "    if len(search) > 3:\n",
    "        selector = search_goodreads(search)\n",
    "        selector.observe(on_value_change, names='value')\n",
    "        display(selector)\n",
    "        time.sleep(1) # sleep 1 second to ensure not exceeding API terms\n",
    "    else:\n",
    "        print(\"Need at least 3 characters to search\")"
   ]
  },
  {
   "cell_type": "code",
   "execution_count": null,
   "metadata": {
    "collapsed": true
   },
   "outputs": [],
   "source": []
  }
 ],
 "metadata": {
  "kernelspec": {
   "display_name": "Python [conda env:search-libraries]",
   "language": "python",
   "name": "conda-env-search-libraries-py"
  },
  "language_info": {
   "codemirror_mode": {
    "name": "ipython",
    "version": 3
   },
   "file_extension": ".py",
   "mimetype": "text/x-python",
   "name": "python",
   "nbconvert_exporter": "python",
   "pygments_lexer": "ipython3",
   "version": "3.6.4"
  }
 },
 "nbformat": 4,
 "nbformat_minor": 2
}
